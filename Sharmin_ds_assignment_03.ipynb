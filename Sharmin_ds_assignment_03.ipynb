{
 "cells": [
  {
   "cell_type": "code",
   "execution_count": null,
   "id": "a625b323",
   "metadata": {},
   "outputs": [],
   "source": [
    "'''Performing linear regression on height-weight dataset'''"
   ]
  },
  {
   "cell_type": "code",
   "execution_count": 2,
   "id": "d6bbbcb4",
   "metadata": {},
   "outputs": [],
   "source": [
    "#!pip install gspread"
   ]
  },
  {
   "cell_type": "code",
   "execution_count": 3,
   "id": "c30555fa",
   "metadata": {},
   "outputs": [],
   "source": [
    "import pandas as pd\n",
    "import gspread"
   ]
  },
  {
   "cell_type": "code",
   "execution_count": 6,
   "id": "392a46a7",
   "metadata": {},
   "outputs": [],
   "source": [
    "gc = gspread.service_account(\"C:\\\\Users\\\\sharm\\\\Downloads\\\\test1-378205-6a4268d6ec98.json\")"
   ]
  },
  {
   "cell_type": "code",
   "execution_count": 7,
   "id": "e154f6b1",
   "metadata": {},
   "outputs": [
    {
     "data": {
      "text/plain": [
       "<gspread.client.Client at 0x19e55384f10>"
      ]
     },
     "execution_count": 7,
     "metadata": {},
     "output_type": "execute_result"
    }
   ],
   "source": [
    "gc"
   ]
  },
  {
   "cell_type": "code",
   "execution_count": 8,
   "id": "57f55c9b",
   "metadata": {},
   "outputs": [],
   "source": [
    "sheet=gc.open_by_url('https://docs.google.com/spreadsheets/d/1BSh8qnmgkbMEXcJ3Yv8Gu-JbrjWcLe-LKn03s9b_qM8/edit?usp=sharing')"
   ]
  },
  {
   "cell_type": "code",
   "execution_count": 9,
   "id": "7412ccd0",
   "metadata": {},
   "outputs": [
    {
     "data": {
      "text/plain": [
       "<Spreadsheet 'Height-Weight Data' id:1BSh8qnmgkbMEXcJ3Yv8Gu-JbrjWcLe-LKn03s9b_qM8>"
      ]
     },
     "execution_count": 9,
     "metadata": {},
     "output_type": "execute_result"
    }
   ],
   "source": [
    "sheet"
   ]
  },
  {
   "cell_type": "code",
   "execution_count": 10,
   "id": "509b8895",
   "metadata": {},
   "outputs": [],
   "source": [
    "work_sheet = sheet.worksheet('Height-Weight Data') # importing data sets using google sheet"
   ]
  },
  {
   "cell_type": "code",
   "execution_count": 11,
   "id": "1107221e",
   "metadata": {},
   "outputs": [
    {
     "data": {
      "text/plain": [
       "<Worksheet 'Height-Weight Data' id:114056496>"
      ]
     },
     "execution_count": 11,
     "metadata": {},
     "output_type": "execute_result"
    }
   ],
   "source": [
    "work_sheet"
   ]
  },
  {
   "cell_type": "code",
   "execution_count": 12,
   "id": "039ae7b3",
   "metadata": {},
   "outputs": [],
   "source": [
    "df = pd.DataFrame(work_sheet.get_all_records()) # creating a data frame"
   ]
  },
  {
   "cell_type": "code",
   "execution_count": 13,
   "id": "55d5a952",
   "metadata": {},
   "outputs": [
    {
     "data": {
      "text/html": [
       "<div>\n",
       "<style scoped>\n",
       "    .dataframe tbody tr th:only-of-type {\n",
       "        vertical-align: middle;\n",
       "    }\n",
       "\n",
       "    .dataframe tbody tr th {\n",
       "        vertical-align: top;\n",
       "    }\n",
       "\n",
       "    .dataframe thead th {\n",
       "        text-align: right;\n",
       "    }\n",
       "</style>\n",
       "<table border=\"1\" class=\"dataframe\">\n",
       "  <thead>\n",
       "    <tr style=\"text-align: right;\">\n",
       "      <th></th>\n",
       "      <th>Height</th>\n",
       "      <th>Weight</th>\n",
       "    </tr>\n",
       "  </thead>\n",
       "  <tbody>\n",
       "    <tr>\n",
       "      <th>0</th>\n",
       "      <td>73.847017</td>\n",
       "      <td>241.893563</td>\n",
       "    </tr>\n",
       "    <tr>\n",
       "      <th>1</th>\n",
       "      <td>68.781904</td>\n",
       "      <td>162.310473</td>\n",
       "    </tr>\n",
       "    <tr>\n",
       "      <th>2</th>\n",
       "      <td>74.110105</td>\n",
       "      <td>212.740856</td>\n",
       "    </tr>\n",
       "    <tr>\n",
       "      <th>3</th>\n",
       "      <td>71.730978</td>\n",
       "      <td>220.042470</td>\n",
       "    </tr>\n",
       "    <tr>\n",
       "      <th>4</th>\n",
       "      <td>69.881796</td>\n",
       "      <td>206.349801</td>\n",
       "    </tr>\n",
       "  </tbody>\n",
       "</table>\n",
       "</div>"
      ],
      "text/plain": [
       "      Height      Weight\n",
       "0  73.847017  241.893563\n",
       "1  68.781904  162.310473\n",
       "2  74.110105  212.740856\n",
       "3  71.730978  220.042470\n",
       "4  69.881796  206.349801"
      ]
     },
     "execution_count": 13,
     "metadata": {},
     "output_type": "execute_result"
    }
   ],
   "source": [
    "df.head() # just looking at the first five values out of thousands values from the datas using head function "
   ]
  },
  {
   "cell_type": "code",
   "execution_count": 14,
   "id": "a6a7ab2d",
   "metadata": {},
   "outputs": [],
   "source": [
    "import numpy as npy\n",
    "from matplotlib import pyplot as plt\n",
    "\n",
    "import warnings as wr\n",
    "wr.filterwarnings('ignore') # will ignore warnings"
   ]
  },
  {
   "cell_type": "code",
   "execution_count": 18,
   "id": "8de0e49f",
   "metadata": {},
   "outputs": [
    {
     "data": {
      "text/plain": [
       "Text(0.5, 1.0, 'Height weight values')"
      ]
     },
     "execution_count": 18,
     "metadata": {},
     "output_type": "execute_result"
    },
    {
     "data": {
      "image/png": "[encoded data removed]",
      "text/plain": [
       "<Figure size 432x288 with 1 Axes>"
      ]
     },
     "metadata": {
      "needs_background": "light"
     },
     "output_type": "display_data"
    }
   ],
   "source": [
    "plt.scatter(df.Height,df.Weight) # scatter plot using all the height-weight values\n",
    "plt.scatter(df.Height,df.Weight, color='green') \n",
    "plt.xlabel('height')\n",
    "plt.ylabel('weight')\n",
    "plt.title('Height weight values')"
   ]
  },
  {
   "cell_type": "code",
   "execution_count": 27,
   "id": "c42c609a",
   "metadata": {},
   "outputs": [],
   "source": [
    "hgt=df.drop('Weight',axis=1) # seperating height (x) values and keeping it inside hgt"
   ]
  },
  {
   "cell_type": "code",
   "execution_count": 28,
   "id": "9335d0de",
   "metadata": {},
   "outputs": [
    {
     "data": {
      "text/html": [
       "<div>\n",
       "<style scoped>\n",
       "    .dataframe tbody tr th:only-of-type {\n",
       "        vertical-align: middle;\n",
       "    }\n",
       "\n",
       "    .dataframe tbody tr th {\n",
       "        vertical-align: top;\n",
       "    }\n",
       "\n",
       "    .dataframe thead th {\n",
       "        text-align: right;\n",
       "    }\n",
       "</style>\n",
       "<table border=\"1\" class=\"dataframe\">\n",
       "  <thead>\n",
       "    <tr style=\"text-align: right;\">\n",
       "      <th></th>\n",
       "      <th>Height</th>\n",
       "    </tr>\n",
       "  </thead>\n",
       "  <tbody>\n",
       "    <tr>\n",
       "      <th>0</th>\n",
       "      <td>73.847017</td>\n",
       "    </tr>\n",
       "    <tr>\n",
       "      <th>1</th>\n",
       "      <td>68.781904</td>\n",
       "    </tr>\n",
       "    <tr>\n",
       "      <th>2</th>\n",
       "      <td>74.110105</td>\n",
       "    </tr>\n",
       "    <tr>\n",
       "      <th>3</th>\n",
       "      <td>71.730978</td>\n",
       "    </tr>\n",
       "    <tr>\n",
       "      <th>4</th>\n",
       "      <td>69.881796</td>\n",
       "    </tr>\n",
       "  </tbody>\n",
       "</table>\n",
       "</div>"
      ],
      "text/plain": [
       "      Height\n",
       "0  73.847017\n",
       "1  68.781904\n",
       "2  74.110105\n",
       "3  71.730978\n",
       "4  69.881796"
      ]
     },
     "execution_count": 28,
     "metadata": {},
     "output_type": "execute_result"
    }
   ],
   "source": [
    "hgt.head()"
   ]
  },
  {
   "cell_type": "code",
   "execution_count": 29,
   "id": "930d6010",
   "metadata": {},
   "outputs": [],
   "source": [
    "wgt=df['Weight'] #seperating weight (y) values and keeping it inside wgt"
   ]
  },
  {
   "cell_type": "code",
   "execution_count": 30,
   "id": "52796bf9",
   "metadata": {},
   "outputs": [
    {
     "data": {
      "text/plain": [
       "0    241.893563\n",
       "1    162.310473\n",
       "2    212.740856\n",
       "3    220.042470\n",
       "4    206.349801\n",
       "Name: Weight, dtype: float64"
      ]
     },
     "execution_count": 30,
     "metadata": {},
     "output_type": "execute_result"
    }
   ],
   "source": [
    "wgt.head()"
   ]
  },
  {
   "cell_type": "code",
   "execution_count": null,
   "id": "1ae04a63",
   "metadata": {},
   "outputs": [],
   "source": [
    "'''using train_test_split(), seperating training and testing datas, 75% is used in training whereas 25% is used in testing\n",
    "'''"
   ]
  },
  {
   "cell_type": "code",
   "execution_count": 37,
   "id": "28d4899e",
   "metadata": {},
   "outputs": [],
   "source": [
    "from sklearn.model_selection import train_test_split\n",
    "hgt_train,hgt_test,wgt_train,wgt_test = train_test_split(hgt,wgt,test_size=0.25,random_state=1) #75% is used in training"
   ]
  },
  {
   "cell_type": "code",
   "execution_count": 38,
   "id": "bfa02dd2",
   "metadata": {},
   "outputs": [
    {
     "data": {
      "text/html": [
       "<div>\n",
       "<style scoped>\n",
       "    .dataframe tbody tr th:only-of-type {\n",
       "        vertical-align: middle;\n",
       "    }\n",
       "\n",
       "    .dataframe tbody tr th {\n",
       "        vertical-align: top;\n",
       "    }\n",
       "\n",
       "    .dataframe thead th {\n",
       "        text-align: right;\n",
       "    }\n",
       "</style>\n",
       "<table border=\"1\" class=\"dataframe\">\n",
       "  <thead>\n",
       "    <tr style=\"text-align: right;\">\n",
       "      <th></th>\n",
       "      <th>Height</th>\n",
       "    </tr>\n",
       "  </thead>\n",
       "  <tbody>\n",
       "    <tr>\n",
       "      <th>525</th>\n",
       "      <td>68.624063</td>\n",
       "    </tr>\n",
       "    <tr>\n",
       "      <th>1792</th>\n",
       "      <td>68.829216</td>\n",
       "    </tr>\n",
       "    <tr>\n",
       "      <th>3314</th>\n",
       "      <td>69.197548</td>\n",
       "    </tr>\n",
       "    <tr>\n",
       "      <th>1562</th>\n",
       "      <td>67.867665</td>\n",
       "    </tr>\n",
       "    <tr>\n",
       "      <th>3086</th>\n",
       "      <td>65.234102</td>\n",
       "    </tr>\n",
       "  </tbody>\n",
       "</table>\n",
       "</div>"
      ],
      "text/plain": [
       "         Height\n",
       "525   68.624063\n",
       "1792  68.829216\n",
       "3314  69.197548\n",
       "1562  67.867665\n",
       "3086  65.234102"
      ]
     },
     "execution_count": 38,
     "metadata": {},
     "output_type": "execute_result"
    }
   ],
   "source": [
    "hgt_train.head() #will show five training values of height"
   ]
  },
  {
   "cell_type": "code",
   "execution_count": 39,
   "id": "b8bf7e0f",
   "metadata": {},
   "outputs": [
    {
     "data": {
      "text/plain": [
       "525     159.862467\n",
       "1792    200.330819\n",
       "3314    191.542329\n",
       "1562    168.817572\n",
       "3086    167.372980\n",
       "Name: Weight, dtype: float64"
      ]
     },
     "execution_count": 39,
     "metadata": {},
     "output_type": "execute_result"
    }
   ],
   "source": [
    "wgt_train.head() #will show five training values of weight"
   ]
  },
  {
   "cell_type": "code",
   "execution_count": null,
   "id": "acb7bb90",
   "metadata": {},
   "outputs": [],
   "source": [
    "'''we will now perform linear regression using training and testing datasets'''"
   ]
  },
  {
   "cell_type": "code",
   "execution_count": 40,
   "id": "03da2733",
   "metadata": {},
   "outputs": [],
   "source": [
    "from sklearn.linear_model import LinearRegression"
   ]
  },
  {
   "cell_type": "code",
   "execution_count": 56,
   "id": "c9e27825",
   "metadata": {},
   "outputs": [],
   "source": [
    "lr=LinearRegression()"
   ]
  },
  {
   "cell_type": "code",
   "execution_count": 57,
   "id": "3543d6aa",
   "metadata": {},
   "outputs": [
    {
     "data": {
      "text/plain": [
       "LinearRegression()"
      ]
     },
     "execution_count": 57,
     "metadata": {},
     "output_type": "execute_result"
    }
   ],
   "source": [
    "lr.fit(hgt_train,wgt_train) # using training data as an input to train the machine learning model"
   ]
  },
  {
   "cell_type": "code",
   "execution_count": 58,
   "id": "7565aaeb",
   "metadata": {},
   "outputs": [],
   "source": [
    "m=lr.coef_   #calculating slope"
   ]
  },
  {
   "cell_type": "code",
   "execution_count": 59,
   "id": "d72f3971",
   "metadata": {},
   "outputs": [],
   "source": [
    "c=lr.intercept_ #calculating y-intercept"
   ]
  },
  {
   "cell_type": "code",
   "execution_count": 60,
   "id": "306e847e",
   "metadata": {},
   "outputs": [],
   "source": [
    "df['predicted_wgt']=lr.predict(hgt) #predicting weight (y) values diretly (without using m and c) for all height (x) values"
   ]
  },
  {
   "cell_type": "code",
   "execution_count": 62,
   "id": "88141890",
   "metadata": {},
   "outputs": [
    {
     "data": {
      "text/plain": [
       "0    215.614865\n",
       "1    185.372306\n",
       "2    217.185702\n",
       "3    202.980513\n",
       "4    191.939493\n",
       "Name: predicted_wgt, dtype: float64"
      ]
     },
     "execution_count": 62,
     "metadata": {},
     "output_type": "execute_result"
    }
   ],
   "source": [
    "df['predicted_wgt'].head()"
   ]
  },
  {
   "cell_type": "code",
   "execution_count": 63,
   "id": "e508d318",
   "metadata": {},
   "outputs": [],
   "source": [
    "#plt.plot(hgt.squeeze(),df[['predicted_wgt']]) # will use plt.plot(x.squeeze(),df[['predicted_rent']]) "
   ]
  },
  {
   "cell_type": "code",
   "execution_count": 67,
   "id": "5590ac62",
   "metadata": {},
   "outputs": [
    {
     "data": {
      "text/plain": [
       "(3501, 1)"
      ]
     },
     "execution_count": 67,
     "metadata": {},
     "output_type": "execute_result"
    }
   ],
   "source": [
    "df[['predicted_wgt']].shape # size of predicted weight"
   ]
  },
  {
   "cell_type": "code",
   "execution_count": 65,
   "id": "617cae9e",
   "metadata": {},
   "outputs": [
    {
     "data": {
      "text/plain": [
       "(3501, 1)"
      ]
     },
     "execution_count": 65,
     "metadata": {},
     "output_type": "execute_result"
    }
   ],
   "source": [
    "hgt.shape # size of height"
   ]
  },
  {
   "cell_type": "code",
   "execution_count": 95,
   "id": "759db7cc",
   "metadata": {},
   "outputs": [
    {
     "data": {
      "text/plain": [
       "[<matplotlib.lines.Line2D at 0x19e67b24520>]"
      ]
     },
     "execution_count": 95,
     "metadata": {},
     "output_type": "execute_result"
    },
    {
     "data": {
      "image/png": "[encoded data removed]",
      "text/plain": [
       "<Figure size 432x288 with 1 Axes>"
      ]
     },
     "metadata": {
      "needs_background": "light"
     },
     "output_type": "display_data"
    }
   ],
   "source": [
    "plt.scatter(hgt,df[['Weight']],color='green') # scatter plot with the original height weight values\n",
    "plt.scatter(hgt,df[['predicted_wgt']],color='yellow') # scatter plot using predicted weights and the original heights\n",
    "plt.plot(hgt.squeeze(),df['predicted_wgt'],color='red')  # gives best fit line"
   ]
  },
  {
   "cell_type": "code",
   "execution_count": 97,
   "id": "4b0d40d1",
   "metadata": {},
   "outputs": [],
   "source": [
    "from sklearn.metrics import mean_squared_error, mean_absolute_error\n",
    "mse = mean_squared_error(wgt_test,lr.predict(hgt_test)) # calculating mean squared error\n",
    "mae = mean_absolute_error(wgt_test,lr.predict(hgt_test)) #calculating mean absolute error"
   ]
  },
  {
   "cell_type": "code",
   "execution_count": 98,
   "id": "292994b2",
   "metadata": {},
   "outputs": [
    {
     "data": {
      "text/plain": [
       "111.53431428776675"
      ]
     },
     "execution_count": 98,
     "metadata": {},
     "output_type": "execute_result"
    }
   ],
   "source": [
    "mse"
   ]
  },
  {
   "cell_type": "code",
   "execution_count": 99,
   "id": "5fcd537d",
   "metadata": {},
   "outputs": [
    {
     "data": {
      "text/plain": [
       "8.226502913131542"
      ]
     },
     "execution_count": 99,
     "metadata": {},
     "output_type": "execute_result"
    }
   ],
   "source": [
    "mae"
   ]
  },
  {
   "cell_type": "code",
   "execution_count": 100,
   "id": "38776cfc",
   "metadata": {},
   "outputs": [
    {
     "data": {
      "text/plain": [
       "0.7370876521149996"
      ]
     },
     "execution_count": 100,
     "metadata": {},
     "output_type": "execute_result"
    }
   ],
   "source": [
    "lr.score(hgt_test,wgt_test) # checking accuracy"
   ]
  }
 ],
 "metadata": {
  "kernelspec": {
   "display_name": "Python 3 (ipykernel)",
   "language": "python",
   "name": "python3"
  },
  "language_info": {
   "codemirror_mode": {
    "name": "ipython",
    "version": 3
   },
   "file_extension": ".py",
   "mimetype": "text/x-python",
   "name": "python",
   "nbconvert_exporter": "python",
   "pygments_lexer": "ipython3",
   "version": "3.9.12"
  }
 },
 "nbformat": 4,
 "nbformat_minor": 5
}
